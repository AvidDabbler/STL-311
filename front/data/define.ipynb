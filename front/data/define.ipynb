{
 "metadata": {
  "language_info": {
   "codemirror_mode": {
    "name": "ipython",
    "version": 3
   },
   "file_extension": ".py",
   "mimetype": "text/x-python",
   "name": "python",
   "nbconvert_exporter": "python",
   "pygments_lexer": "ipython3",
   "version": "3.7.9-final"
  },
  "orig_nbformat": 2,
  "kernelspec": {
   "name": "python3",
   "display_name": "Python 3.7.9 64-bit",
   "metadata": {
    "interpreter": {
     "hash": "4e72118b1a01c3a8f02913ee8cd54e3e30c440fb41825fb0a9c21555317ab26b"
    }
   }
  }
 },
 "nbformat": 4,
 "nbformat_minor": 2,
 "cells": [
  {
   "cell_type": "code",
   "execution_count": 47,
   "metadata": {},
   "outputs": [],
   "source": [
    "from os import getenv\n",
    "import pandas as pd\n",
    "import requests\n",
    "import json "
   ]
  },
  {
   "cell_type": "code",
   "execution_count": 48,
   "metadata": {},
   "outputs": [],
   "source": [
    "df = pd.read_csv(os.path.join(r'full_requests2021.csv'))"
   ]
  },
  {
   "cell_type": "code",
   "execution_count": 49,
   "metadata": {},
   "outputs": [],
   "source": [
    "# isolate groups from csv\n",
    "groupsdf = df.groupby(by=['GROUP'], as_index=False).sum()\n",
    "groups = groupsdf['GROUP'].values.tolist()"
   ]
  },
  {
   "cell_type": "code",
   "execution_count": 50,
   "metadata": {
    "tags": []
   },
   "outputs": [],
   "source": [
    "# isolate PROBLEMCODE by GROUP\n",
    "\n",
    "finalobj = {}\n",
    "\n",
    "for group in groups:\n",
    "    finalobj[group] = {}\n",
    "    filterdf = df.loc[df['GROUP'] == group].groupby(by=['PROBLEMCODE','DESCRIPTION'], as_index=False).sum()\n",
    "    problems = filterdf['PROBLEMCODE'].values.tolist()\n",
    "    for prob in problems:\n",
    "        descdf = filterdf.loc[filterdf['PROBLEMCODE'] == prob].groupby(by=['DESCRIPTION'], as_index=False).sum()\n",
    "        finalobj[group][prob] = descdf['DESCRIPTION'].values.tolist()[0]\n",
    "\n",
    "file = open('dropdown.json', 'w')\n",
    "json.dump(finalobj, file, indent=4)"
   ]
  },
  {
   "cell_type": "code",
   "execution_count": null,
   "metadata": {},
   "outputs": [],
   "source": []
  }
 ]
}