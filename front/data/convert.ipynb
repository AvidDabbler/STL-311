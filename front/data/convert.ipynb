{
 "metadata": {
  "language_info": {
   "codemirror_mode": {
    "name": "ipython",
    "version": 3
   },
   "file_extension": ".py",
   "mimetype": "text/x-python",
   "name": "python",
   "nbconvert_exporter": "python",
   "pygments_lexer": "ipython3",
   "version": "3.7.9-final"
  },
  "orig_nbformat": 2,
  "kernelspec": {
   "name": "python3",
   "display_name": "Python 3.7.9 64-bit ('geo': conda)",
   "metadata": {
    "interpreter": {
     "hash": "4e72118b1a01c3a8f02913ee8cd54e3e30c440fb41825fb0a9c21555317ab26b"
    }
   }
  }
 },
 "nbformat": 4,
 "nbformat_minor": 2,
 "cells": [
  {
   "cell_type": "code",
   "execution_count": 36,
   "metadata": {},
   "outputs": [],
   "source": [
    "from os.path import exists\n",
    "import json \n",
    "from sys import argv\n",
    "import pyproj"
   ]
  },
  {
   "cell_type": "code",
   "execution_count": 37,
   "metadata": {},
   "outputs": [],
   "source": [
    "# script, in_file, out_file = argv\n",
    "\n",
    "data = json.load(open(r'requests.json'))\n",
    "\n",
    "# def newCoor(long, lat):\n",
    "    \n",
    "#     inProj = pyproj.Proj(init='esri:102696')\n",
    "#     outProj = pyprj.Proj(init='epsg:4326')\n",
    "#     x1,y1 = long,lat\n",
    "#     x2,y2 = pyproj.transformer.transform(inProj,outProj,x1,y1)\n",
    "#     return [x2,y2]\n",
    "\n",
    "def newCRS(long, lat):\n",
    "    try:\n",
    "        t = pyproj.Transformer.from_crs('esri:102696', 'epsg:4326')\n",
    "        coor = t.transform(long, lat)\n",
    "        return [coor[1], coor[0]]\n",
    "    except:\n",
    "        return [0, 0]"
   ]
  },
  {
   "cell_type": "code",
   "execution_count": 38,
   "metadata": {
    "tags": []
   },
   "outputs": [],
   "source": [
    "geojson = {\n",
    "    \"type\": \"FeatureCollection\",\n",
    "    \"features\": [] \n",
    "}\n",
    "\n",
    "\n",
    "for d in data:\n",
    "    try:\n",
    "        geojson['features'].append(\n",
    "            {\n",
    "                \"type\": \"Feature\",\n",
    "                \"geometry\" : {\n",
    "                    \"type\": \"Point\",\n",
    "                    \"coordinates\": newCRS(d[\"LAT\"], d[\"LONG\"]),\n",
    "                    },\n",
    "                \"properties\" : {'SERVICE_NAME': d['SERVICE_NAME'], \n",
    "                                'REQUESTED_DATETIME': d['REQUESTED_DATETIME'], \n",
    "                                'STATUS_NOTES': d['STATUS_NOTES'], \n",
    "                                'ZIPCODE': d['ZIPCODE'], \n",
    "                                'SERVICE_NOTICE': d['SERVICE_NOTICE'], \n",
    "                                'UPDATED_DATETIME': d['UPDATED_DATETIME'], \n",
    "                                'AGENCY_RESPONSIBLE': d['AGENCY_RESPONSIBLE'], \n",
    "                                'STATUS': d['STATUS'], \n",
    "                                'MEDIA_URL': d['MEDIA_URL'], \n",
    "                                'DESCRIPTION': d['DESCRIPTION'], \n",
    "                                'EXPECTED_DATETIME': d['EXPECTED_DATETIME'], \n",
    "                                'ADDRESS': d['ADDRESS'], \n",
    "                                'SERVICE_REQUEST_ID': d['SERVICE_REQUEST_ID'], \n",
    "                                'ADDRESS_ID': d['ADDRESS_ID']}\n",
    "            }\n",
    "        )\n",
    "    except:\n",
    "        print('failed to add item')"
   ]
  },
  {
   "cell_type": "code",
   "execution_count": 39,
   "metadata": {},
   "outputs": [],
   "source": [
    "file = open('geojson.json', 'w')\n",
    "json.dump(geojson, file)"
   ]
  },
  {
   "cell_type": "code",
   "execution_count": null,
   "metadata": {},
   "outputs": [],
   "source": []
  }
 ]
}