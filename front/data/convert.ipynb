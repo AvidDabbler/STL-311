{
 "metadata": {
  "language_info": {
   "codemirror_mode": {
    "name": "ipython",
    "version": 3
   },
   "file_extension": ".py",
   "mimetype": "text/x-python",
   "name": "python",
   "nbconvert_exporter": "python",
   "pygments_lexer": "ipython3",
   "version": "3.8.5-final"
  },
  "orig_nbformat": 2,
  "kernelspec": {
   "name": "python38564bitd539f171e22741cba7292ddba06b1e8a",
   "display_name": "Python 3.8.5 64-bit",
   "language": "python"
  }
 },
 "nbformat": 4,
 "nbformat_minor": 2,
 "cells": [
  {
   "cell_type": "code",
   "execution_count": 1,
   "metadata": {},
   "outputs": [],
   "source": [
    "from os.path import exists\n",
    "import json \n",
    "from sys import argv\n",
    "import pyproj"
   ]
  },
  {
   "cell_type": "code",
   "execution_count": 2,
   "metadata": {},
   "outputs": [
    {
     "output_type": "stream",
     "name": "stdout",
     "text": [
      "38.27373939777374\n"
     ]
    }
   ],
   "source": [
    "script, in_file, out_file = argv\n",
    "\n",
    "data = json.load(open(r'requests.json'))\n",
    "\n",
    "# def newCoor(long, lat):\n",
    "    \n",
    "#     inProj = pyproj.Proj(init='esri:102696')\n",
    "#     outProj = pyprj.Proj(init='epsg:4326')\n",
    "#     x1,y1 = long,lat\n",
    "#     x2,y2 = pyproj.transformer.transform(inProj,outProj,x1,y1)\n",
    "#     return [x2,y2]\n",
    "\n",
    "def newCRS(long, lat):\n",
    "    try:\n",
    "        t = pyproj.Transformer.from_crs('esri:102696', 'epsg:4326')\n",
    "        coor = t.transform(long, lat)\n",
    "        return [coor[0], coor[1]]\n",
    "    except:\n",
    "        return [0, 0]\n",
    "\n",
    "# crs1 = CRS.from_string(\"esri:102696\")\n",
    "# crs2 = CRS.from_string(\"epsg:4326\")\n",
    "\n",
    "# crs1, crs2\n",
    "\n",
    "print(newCRS(1008337.975, 889165.397)[0])"
   ]
  },
  {
   "cell_type": "code",
   "execution_count": 3,
   "metadata": {
    "tags": []
   },
   "outputs": [],
   "source": [
    "geojson = {\n",
    "    \"type\": \"FeatureCollection\",\n",
    "    \"features\": [\n",
    "    {\n",
    "        \"type\": \"Feature\",\n",
    "        \"geometry\" : {\n",
    "            \"type\": \"Point\",\n",
    "            \"coordinates\": newCRS(d[\"LONG\"], d[\"LAT\"]),\n",
    "            },\n",
    "        \"properties\" : d,\n",
    "     } for d in data]\n",
    "}"
   ]
  },
  {
   "cell_type": "code",
   "execution_count": 6,
   "metadata": {},
   "outputs": [],
   "source": [
    "file = open('geojson.json', 'w')\n",
    "json.dump(geojson, file)"
   ]
  },
  {
   "cell_type": "code",
   "execution_count": null,
   "metadata": {},
   "outputs": [],
   "source": []
  }
 ]
}